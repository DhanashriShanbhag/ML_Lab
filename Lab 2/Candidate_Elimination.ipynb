{
  "nbformat": 4,
  "nbformat_minor": 0,
  "metadata": {
    "colab": {
      "provenance": []
    },
    "kernelspec": {
      "name": "python3",
      "display_name": "Python 3"
    },
    "language_info": {
      "name": "python"
    }
  },
  "cells": [
    {
      "cell_type": "code",
      "execution_count": 2,
      "metadata": {
        "colab": {
          "base_uri": "https://localhost:8080/"
        },
        "id": "ldoyY36WbGt0",
        "outputId": "7cfe5939-b044-41ed-8aaf-2aa2f5904c35"
      },
      "outputs": [
        {
          "output_type": "stream",
          "name": "stdout",
          "text": [
            "[['sunny' 'warm' 'normal' 'strong' 'warm' 'same']\n",
            " ['sunny' 'warm' 'high' 'strong' 'warm' 'same']\n",
            " ['rainy' 'cold' 'high' 'strong' 'warm' 'change']\n",
            " ['sunny' 'warm' 'high' 'strong' 'cool' 'change']]\n",
            "['yes' 'yes' 'no' 'yes']\n",
            "initialization of specific_h and general_h\n",
            "['sunny' 'warm' 'normal' 'strong' 'warm' 'same']\n",
            "[['?', '?', '?', '?', '?', '?'], ['?', '?', '?', '?', '?', '?'], ['?', '?', '?', '?', '?', '?'], ['?', '?', '?', '?', '?', '?'], ['?', '?', '?', '?', '?', '?'], ['?', '?', '?', '?', '?', '?']]\n",
            "['sunny' 'warm' '?' 'strong' '?' '?']\n",
            "['sunny' 'warm' '?' 'strong' '?' '?']\n",
            " steps of Candidate Elimination Algorithm 4\n",
            "['sunny' 'warm' '?' 'strong' '?' '?']\n",
            "[['?', '?', '?', '?', '?', '?'], ['?', '?', '?', '?', '?', '?'], ['?', '?', '?', '?', '?', '?'], ['?', '?', '?', '?', '?', '?'], ['?', '?', '?', '?', '?', '?'], ['?', '?', '?', '?', '?', '?']]\n",
            "Final Specific_h:\n",
            "['sunny' 'warm' '?' 'strong' '?' '?']\n",
            "Final General_h:\n",
            "[]\n"
          ]
        }
      ],
      "source": [
        "import numpy as np\n",
        "import pandas as pd\n",
        "data = pd.DataFrame(data=pd.read_csv('enjoysport.csv'))\n",
        "concepts = np.array(data.iloc[:,0:-1])\n",
        "print(concepts)\n",
        "target = np.array(data.iloc[:,-1])\n",
        "print(target)\n",
        "def learn(concepts, target):\n",
        " specific_h = concepts[0].copy()\n",
        " print(\"initialization of specific_h and general_h\")\n",
        " print(specific_h)\n",
        " general_h = [[\"?\" for i in range(len(specific_h))] for i in\n",
        "range(len(specific_h))]\n",
        " print(general_h)\n",
        " for i, h in enumerate(concepts):\n",
        "   if target[i] == \"yes\":\n",
        "    for x in range(len(specific_h)):\n",
        "     if h[x]!= specific_h[x]:\n",
        "      specific_h[x] ='?'\n",
        " general_h[x][x] ='?'\n",
        " print(specific_h)\n",
        " print(specific_h)\n",
        " if target[i] == \"no\":\n",
        "   for x in range(len(specific_h)):\n",
        "     if h[x]!= specific_h[x]:\n",
        "        general_h[x][x] = specific_h[x]\n",
        "     else:\n",
        "       general_h[x][x] = '?'\n",
        " print(\" steps of Candidate Elimination Algorithm\",i+1)\n",
        " print(specific_h)\n",
        " print(general_h)\n",
        " indices = [i for i, val in enumerate(general_h) if val ==\n",
        "['?', '?', '?', '?', '?', '?']]\n",
        " for i in indices:\n",
        "    general_h.remove(['?', '?', '?', '?', '?', '?'])\n",
        " return specific_h, general_h\n",
        "s_final, g_final = learn(concepts, target)\n",
        "print(\"Final Specific_h:\", s_final, sep=\"\\n\")\n",
        "print(\"Final General_h:\", g_final, sep=\"\\n\")"
      ]
    }
  ]
}